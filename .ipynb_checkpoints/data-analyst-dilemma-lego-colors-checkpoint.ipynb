{
 "cells": [
  {
   "cell_type": "markdown",
   "metadata": {
    "papermill": {
     "duration": 0.023782,
     "end_time": "2020-10-23T13:18:32.183217",
     "exception": false,
     "start_time": "2020-10-23T13:18:32.159435",
     "status": "completed"
    },
    "tags": []
   },
   "source": [
    "![](https://papimaxblog.files.wordpress.com/2016/11/hello_world_blog_post.png?w=816)\n",
    "\n",
    "# Introduction\n",
    "\n",
    "As data analysts all of us probably faced this type of issue: how does the insights I found reflect the field reality ? Is the analysis/modelling method I used \"correct\" ? For those who don't have this concern, I created this notebook to show how the answer to even a simple business question can be strongly biased by the method chosen during the analysis. \n",
    "\n",
    "To illustrate this problematic, I chose to work with LEGO data, because LEGOs are the coolest thing on Earth. The business question we will try to answer is: \"**Which color tints are the most used to create sets ?**\". This notebook uses a LEGO database I found on [Rebrickable website](http://rebrickable.com/downloads/) which regroup information on every LEGO set (inventory, creative universe, year...) and part (category, color...). The database is structured as follows:\n",
    "\n",
    "![Rebrickable database structure (source: rebrickable.com)](https://rebrickable.com/static/img/diagrams/downloads_schema_v3.png)\n",
    "\n",
    "To answer this simple business question we will first classify colors into tints then identify which tint is the most represented within LEGO parts and sets. Let's go!"
   ]
  },
  {
   "cell_type": "code",
   "execution_count": 1,
   "metadata": {
    "_cell_guid": "79c7e3d0-c299-4dcb-8224-4455121ee9b0",
    "_uuid": "d629ff2d2480ee46fbb7e2d37f6b5fab8052498a",
    "execution": {
     "iopub.execute_input": "2020-10-23T13:18:32.233757Z",
     "iopub.status.busy": "2020-10-23T13:18:32.232887Z",
     "iopub.status.idle": "2020-10-23T13:18:33.433136Z",
     "shell.execute_reply": "2020-10-23T13:18:33.432090Z"
    },
    "papermill": {
     "duration": 1.228161,
     "end_time": "2020-10-23T13:18:33.433302",
     "exception": false,
     "start_time": "2020-10-23T13:18:32.205141",
     "status": "completed"
    },
    "tags": []
   },
   "outputs": [],
   "source": [
    "# Import libraries used for this notebook\n",
    "\n",
    "import numpy as np\n",
    "import pandas as pd\n",
    "import seaborn as sns\n",
    "from matplotlib import pyplot as plt"
   ]
  },
  {
   "cell_type": "markdown",
   "metadata": {
    "papermill": {
     "duration": 0.020754,
     "end_time": "2020-10-23T13:18:33.476290",
     "exception": false,
     "start_time": "2020-10-23T13:18:33.455536",
     "status": "completed"
    },
    "tags": []
   },
   "source": [
    "# 1. Importing and exploring color data\n",
    "\n",
    "The overall goal of exploring Lego colors is to classify them into different color tints. The chosen tints are the primary colors (red, green and blue for additive synthesis; cyan, magenta and yellow for substractive synthesis) and are stored with their RGB values in the \"colors_categories\" CSV file.\n",
    "\n",
    "A tint classification reference file was also created, stored in the \"manual_categories\" CSV file. This reference will be used to compare with the method used later in this notebook to classify colors into color tints.\n",
    "\n",
    "First preprocessing steps consist in merging the Lego color dataset with the classification reference table, drop Gray color tints and non-used columns."
   ]
  },
  {
   "cell_type": "code",
   "execution_count": 2,
   "metadata": {
    "execution": {
     "iopub.execute_input": "2020-10-23T13:18:33.536832Z",
     "iopub.status.busy": "2020-10-23T13:18:33.531024Z",
     "iopub.status.idle": "2020-10-23T13:18:33.611834Z",
     "shell.execute_reply": "2020-10-23T13:18:33.612489Z"
    },
    "papermill": {
     "duration": 0.112963,
     "end_time": "2020-10-23T13:18:33.612681",
     "exception": false,
     "start_time": "2020-10-23T13:18:33.499718",
     "status": "completed"
    },
    "tags": []
   },
   "outputs": [
    {
     "name": "stdout",
     "output_type": "stream",
     "text": [
      "<class 'pandas.core.frame.DataFrame'>\n",
      "RangeIndex: 137 entries, 0 to 136\n",
      "Data columns (total 4 columns):\n",
      " #   Column    Non-Null Count  Dtype \n",
      "---  ------    --------------  ----- \n",
      " 0   id        137 non-null    int64 \n",
      " 1   name      137 non-null    object\n",
      " 2   rgb       137 non-null    object\n",
      " 3   category  137 non-null    object\n",
      "dtypes: int64(1), object(3)\n",
      "memory usage: 4.4+ KB\n",
      "None\n"
     ]
    },
    {
     "data": {
      "text/html": [
       "<div>\n",
       "<style scoped>\n",
       "    .dataframe tbody tr th:only-of-type {\n",
       "        vertical-align: middle;\n",
       "    }\n",
       "\n",
       "    .dataframe tbody tr th {\n",
       "        vertical-align: top;\n",
       "    }\n",
       "\n",
       "    .dataframe thead th {\n",
       "        text-align: right;\n",
       "    }\n",
       "</style>\n",
       "<table border=\"1\" class=\"dataframe\">\n",
       "  <thead>\n",
       "    <tr style=\"text-align: right;\">\n",
       "      <th></th>\n",
       "      <th>id</th>\n",
       "      <th>name</th>\n",
       "      <th>rgb</th>\n",
       "      <th>category</th>\n",
       "    </tr>\n",
       "  </thead>\n",
       "  <tbody>\n",
       "    <tr>\n",
       "      <th>0</th>\n",
       "      <td>1</td>\n",
       "      <td>Blue</td>\n",
       "      <td>0055BF</td>\n",
       "      <td>Blue</td>\n",
       "    </tr>\n",
       "    <tr>\n",
       "      <th>1</th>\n",
       "      <td>2</td>\n",
       "      <td>Green</td>\n",
       "      <td>237841</td>\n",
       "      <td>Green</td>\n",
       "    </tr>\n",
       "    <tr>\n",
       "      <th>2</th>\n",
       "      <td>3</td>\n",
       "      <td>Dark Turquoise</td>\n",
       "      <td>008F9B</td>\n",
       "      <td>Cyan</td>\n",
       "    </tr>\n",
       "    <tr>\n",
       "      <th>3</th>\n",
       "      <td>4</td>\n",
       "      <td>Red</td>\n",
       "      <td>C91A09</td>\n",
       "      <td>Red</td>\n",
       "    </tr>\n",
       "    <tr>\n",
       "      <th>4</th>\n",
       "      <td>5</td>\n",
       "      <td>Dark Pink</td>\n",
       "      <td>C870A0</td>\n",
       "      <td>Magenta</td>\n",
       "    </tr>\n",
       "  </tbody>\n",
       "</table>\n",
       "</div>"
      ],
      "text/plain": [
       "   id            name     rgb category\n",
       "0   1            Blue  0055BF     Blue\n",
       "1   2           Green  237841    Green\n",
       "2   3  Dark Turquoise  008F9B     Cyan\n",
       "3   4             Red  C91A09      Red\n",
       "4   5       Dark Pink  C870A0  Magenta"
      ]
     },
     "execution_count": 2,
     "metadata": {},
     "output_type": "execute_result"
    }
   ],
   "source": [
    "# Import CSV files and cleaning color data\n",
    "\n",
    "colors = pd.read_csv('../input/lego-creative-database-062020-rebrickable/colors.csv')\n",
    "# color table from rebrickable database\n",
    "colcat = pd.read_csv('../input/lego-creative-database-062020-rebrickable/colors_categories.csv', sep=';')\n",
    "# manual table of color categories and their RGB values\n",
    "mancat = pd.read_csv('../input/lego-creative-database-062020-rebrickable/manual_categories.csv', sep=';')\n",
    "# manual table of rebrickable Lego colors with a manual classification I made\n",
    "\n",
    "colcat = colcat[colcat['Category'].isin(['Red', 'Blue', 'Green', 'Magenta', 'Yellow', 'Cyan'])]\n",
    "colors = pd.merge(colors, mancat, on='name')\n",
    "grays = colors[colors['category'] == 'Gray'].reset_index(drop=True).drop(columns=['is_trans'])\n",
    "colors = colors[colors['category'] != 'Gray'].reset_index(drop=True).drop(columns=['is_trans'])\n",
    "\n",
    "print(colors.info())\n",
    "colors.head()"
   ]
  },
  {
   "cell_type": "markdown",
   "metadata": {
    "papermill": {
     "duration": 0.022172,
     "end_time": "2020-10-23T13:18:33.657689",
     "exception": false,
     "start_time": "2020-10-23T13:18:33.635517",
     "status": "completed"
    },
    "tags": []
   },
   "source": [
    "Then the colors RGB components are extracted and converted to integers to be used in data exploration then in classification methods."
   ]
  },
  {
   "cell_type": "code",
   "execution_count": 3,
   "metadata": {
    "execution": {
     "iopub.execute_input": "2020-10-23T13:18:33.728139Z",
     "iopub.status.busy": "2020-10-23T13:18:33.712408Z",
     "iopub.status.idle": "2020-10-23T13:18:33.732170Z",
     "shell.execute_reply": "2020-10-23T13:18:33.731418Z"
    },
    "papermill": {
     "duration": 0.051923,
     "end_time": "2020-10-23T13:18:33.732329",
     "exception": false,
     "start_time": "2020-10-23T13:18:33.680406",
     "status": "completed"
    },
    "tags": []
   },
   "outputs": [],
   "source": [
    "def extract_rgb(df, col_rgb, col_name, pos):\n",
    "    \"\"\"Extract R, G and B componenets of RGB hex code and convert to integer.\"\"\"\n",
    "    df[col_name] = df[col_rgb].str[pos:pos+2]\n",
    "    df[col_name] = [int(n, 16) for n in df[col_name]]\n",
    "    df[col_name] = df[col_name].astype('int64')\n",
    "    \n",
    "extract_rgb(colors, 'rgb', 'r', 0)\n",
    "extract_rgb(colors, 'rgb', 'g', 2)\n",
    "extract_rgb(colors, 'rgb', 'b', 4)\n",
    "\n",
    "extract_rgb(grays, 'rgb', 'r', 0)\n",
    "extract_rgb(grays, 'rgb', 'g', 2)\n",
    "extract_rgb(grays, 'rgb', 'b', 4)"
   ]
  },
  {
   "cell_type": "code",
   "execution_count": 4,
   "metadata": {
    "execution": {
     "iopub.execute_input": "2020-10-23T13:18:33.789159Z",
     "iopub.status.busy": "2020-10-23T13:18:33.787218Z",
     "iopub.status.idle": "2020-10-23T13:18:39.699452Z",
     "shell.execute_reply": "2020-10-23T13:18:39.698598Z"
    },
    "papermill": {
     "duration": 5.944347,
     "end_time": "2020-10-23T13:18:39.699598",
     "exception": false,
     "start_time": "2020-10-23T13:18:33.755251",
     "status": "completed"
    },
    "tags": []
   },
   "outputs": [
    {
     "data": {
      "image/png": "[encoded data removed]",
      "text/plain": [
       "<Figure size 540x540 with 12 Axes>"
      ]
     },
     "metadata": {
      "needs_background": "light"
     },
     "output_type": "display_data"
    },
    {
     "data": {
      "image/png": "[encoded data removed]",
      "text/plain": [
       "<Figure size 540x540 with 12 Axes>"
      ]
     },
     "metadata": {
      "needs_background": "light"
     },
     "output_type": "display_data"
    }
   ],
   "source": [
    "g0 = sns.pairplot(colors[['r', 'g', 'b']])\n",
    "g0.fig.suptitle('EDA of RGB components (colors)', y=1.03)\n",
    "plt.show()\n",
    "\n",
    "g1 = sns.pairplot(grays[['r', 'g', 'b']])\n",
    "g1.fig.suptitle('EDA of RGB components (grays)', y=1.03)\n",
    "plt.show()"
   ]
  },
  {
   "cell_type": "markdown",
   "metadata": {
    "papermill": {
     "duration": 0.026364,
     "end_time": "2020-10-23T13:18:39.752699",
     "exception": false,
     "start_time": "2020-10-23T13:18:39.726335",
     "status": "completed"
    },
    "tags": []
   },
   "source": [
    "Through the scatterplots above we observe that there is no clear relationship or cluster in the colors RGB components. On the other hand there is a clear linear relationship between these components for grayscale colors as they have approximately equals R, G and B component values : black is (0;0;0), white is (255;255;255)."
   ]
  },
  {
   "cell_type": "markdown",
   "metadata": {
    "papermill": {
     "duration": 0.026825,
     "end_time": "2020-10-23T13:18:39.805709",
     "exception": false,
     "start_time": "2020-10-23T13:18:39.778884",
     "status": "completed"
    },
    "tags": []
   },
   "source": [
    "# 2. Colors Classification\n",
    "\n",
    "To classify the colors into the six color tints we defined at the beginning, some conversions from the RGB color encoding to other color classification systems are tried.\n",
    "The colors are converted into three 3-dimensional color spaces (RGB, CIE XYZ and CIE Lab, with re-created functions from [OpenCV library](https://docs.opencv.org/2.4/modules/imgproc/doc/miscellaneous_transformations.html#cvtcolor)) and three 2-dimensional spaces (related to [this french Wikipedia article on chromaticity diagrams](https://fr.wikipedia.org/wiki/Diagramme_de_chromaticit%C3%A9)). The colors are then associated to the nearest color tint regarding linear distance."
   ]
  },
  {
   "cell_type": "code",
   "execution_count": 5,
   "metadata": {
    "execution": {
     "iopub.execute_input": "2020-10-23T13:18:39.881734Z",
     "iopub.status.busy": "2020-10-23T13:18:39.875906Z",
     "iopub.status.idle": "2020-10-23T13:18:39.903475Z",
     "shell.execute_reply": "2020-10-23T13:18:39.902716Z"
    },
    "papermill": {
     "duration": 0.071407,
     "end_time": "2020-10-23T13:18:39.903637",
     "exception": false,
     "start_time": "2020-10-23T13:18:39.832230",
     "status": "completed"
    },
    "tags": []
   },
   "outputs": [],
   "source": [
    "## Some useful functions to classify colors (color space conversion functions mainly)\n",
    "\n",
    "def f(t):\n",
    "    \"\"\"Function used for RGB -> CIE Lab conversion.\"\"\"\n",
    "    if t > ((6 / 29) ** 3):\n",
    "        return (t ** (1 / 3))\n",
    "    else:\n",
    "        return (1 / 3)*((29 / 6) ** 2) * t + (4 / 29)\n",
    "\n",
    "def rgb_XYZ(r, g, b):\n",
    "    \"\"\"Return list of X, Y and Z values in CIE XYZ color space from RGB integer components.\"\"\"\n",
    "    rgb = np.array([[r/255],\n",
    "                   [g/255],\n",
    "                   [b/255]])\n",
    "    mat = np.array([[0.412453, 0.357580, 0.180423],\n",
    "                   [0.212671, 0.715160, 0.072169],\n",
    "                   [0.019334, 0.119193, 0.950227]])\n",
    "    xyz = np.dot(mat, rgb)\n",
    "    return [xyz[0], xyz[1], xyz[2]]\n",
    "\n",
    "def XYZ_Lab(XYZ):\n",
    "    \"\"\"Return list of L, a and b values in CIE Lab color space from [X, Y, Z] components as a list.\"\"\"\n",
    "    X = XYZ[0]\n",
    "    Y = XYZ[1]\n",
    "    Z = XYZ[2]\n",
    "    L = 116 * f(Y) - 16\n",
    "    a = 500 * (f(X / 0.950456) - f(Y))\n",
    "    b = 200 * (f(Y) - f(Z / 1.088754))\n",
    "    return [L, a, b]\n",
    "\n",
    "def rgb_rg(r, g, b):\n",
    "    \"\"\"Return r and g coordinates from CIE (r, g) color diagram based on RGB components.\"\"\"\n",
    "    return [r/(r+g+b), g/(r+g+b)]\n",
    "\n",
    "def XYZ_xy(XYZ):\n",
    "    \"\"\"Return x and y coordinates from CIE (x, y) color diagram based on CIE XYZ components as a list.\"\"\"\n",
    "    X = XYZ[0]\n",
    "    Y = XYZ[1]\n",
    "    Z = XYZ[2]\n",
    "    return [X/(X+Y+Z), Y/(X+Y+Z)]\n",
    "\n",
    "def xy_uv(xy):\n",
    "    \"\"\"Return u' and v' coordinates from CIE (u', v') color diagram based on CIE (x, y) coordinates.\"\"\"\n",
    "    x = xy[0]\n",
    "    y = xy[1]\n",
    "    return [4*x/(-2*x+12*y+3), 9*y/(-2*x+12*y+3)]\n",
    "\n",
    "def generate_cie(df):\n",
    "    \"\"\"Generate many CIE color space/diagram coordinates from a DataFrame which contains RGB components columns.\"\"\"\n",
    "    df['XYZ'] = [rgb_XYZ(r, g, b) for r, g, b in zip(df['r'], df['g'], df['b'])]\n",
    "    df['Lab'] = [XYZ_Lab(XYZ) for XYZ in df['XYZ']]\n",
    "    df['rg'] = [rgb_rg(r, g, b) for r, g, b in zip(df['r'], df['g'], df['b'])]\n",
    "    df['xy'] = [XYZ_xy(XYZ) for XYZ in df['XYZ']]\n",
    "    df['uv'] = [xy_uv(xy) for xy in df['xy']]\n",
    "    df['RGB'] = [[r, g, b] for r, g, b in zip(df['r'], df['g'], df['b'])]\n",
    "    return df\n",
    "\n",
    "def categorize_color(color, refs, col):\n",
    "    \"\"\"Link a color to its nearest color tint based on linear distance between coordinates on specified space.\n",
    "    color: DataFrame of colors to link to a tint.\n",
    "    refs: DataFrame of tint colors containing a 'Category' column.\n",
    "    col: color space on which the link is made.\"\"\"\n",
    "    min = 999\n",
    "    for i in refs.index:\n",
    "        dist = np.linalg.norm(np.array(color)-np.array(refs.loc[i, col]))\n",
    "        if dist < min:\n",
    "            min = dist\n",
    "            cat = refs.loc[i, 'Category']\n",
    "    return cat\n",
    "\n",
    "def cat_color_name(clist, name):\n",
    "    \"\"\"Return the name contained in clist if contained in name list, else return None.\"\"\"\n",
    "    for col in clist:\n",
    "        if col in name:\n",
    "            return col\n",
    "    return None"
   ]
  },
  {
   "cell_type": "code",
   "execution_count": 6,
   "metadata": {
    "execution": {
     "iopub.execute_input": "2020-10-23T13:18:39.982543Z",
     "iopub.status.busy": "2020-10-23T13:18:39.969956Z",
     "iopub.status.idle": "2020-10-23T13:18:40.008456Z",
     "shell.execute_reply": "2020-10-23T13:18:40.009959Z"
    },
    "papermill": {
     "duration": 0.079182,
     "end_time": "2020-10-23T13:18:40.010339",
     "exception": false,
     "start_time": "2020-10-23T13:18:39.931157",
     "status": "completed"
    },
    "tags": []
   },
   "outputs": [
    {
     "name": "stdout",
     "output_type": "stream",
     "text": [
      "<class 'pandas.core.frame.DataFrame'>\n",
      "RangeIndex: 137 entries, 0 to 136\n",
      "Data columns (total 13 columns):\n",
      " #   Column    Non-Null Count  Dtype \n",
      "---  ------    --------------  ----- \n",
      " 0   id        137 non-null    int64 \n",
      " 1   name      137 non-null    object\n",
      " 2   rgb       137 non-null    object\n",
      " 3   category  137 non-null    object\n",
      " 4   r         137 non-null    int64 \n",
      " 5   g         137 non-null    int64 \n",
      " 6   b         137 non-null    int64 \n",
      " 7   XYZ       137 non-null    object\n",
      " 8   Lab       137 non-null    object\n",
      " 9   rg        137 non-null    object\n",
      " 10  xy        137 non-null    object\n",
      " 11  uv        137 non-null    object\n",
      " 12  RGB       137 non-null    object\n",
      "dtypes: int64(4), object(9)\n",
      "memory usage: 14.0+ KB\n"
     ]
    }
   ],
   "source": [
    "## Colors processing, generating multiple color space coordinates\n",
    "\n",
    "colors = generate_cie(colors)\n",
    "colcat = generate_cie(colcat)\n",
    "\n",
    "colors.info()"
   ]
  },
  {
   "cell_type": "code",
   "execution_count": 7,
   "metadata": {
    "execution": {
     "iopub.execute_input": "2020-10-23T13:18:40.093812Z",
     "iopub.status.busy": "2020-10-23T13:18:40.081797Z",
     "iopub.status.idle": "2020-10-23T13:18:42.836236Z",
     "shell.execute_reply": "2020-10-23T13:18:42.836857Z"
    },
    "papermill": {
     "duration": 2.798508,
     "end_time": "2020-10-23T13:18:42.837095",
     "exception": false,
     "start_time": "2020-10-23T13:18:40.038587",
     "status": "completed"
    },
    "tags": []
   },
   "outputs": [
    {
     "data": {
      "image/png": "[encoded data removed]",
      "text/plain": [
       "<Figure size 1152x288 with 3 Axes>"
      ]
     },
     "metadata": {
      "needs_background": "light"
     },
     "output_type": "display_data"
    }
   ],
   "source": [
    "## Visualizing color points in color spaces (r,g), (x,y) and (u', v')\n",
    "\n",
    "plt.figure(figsize=(16, 4))\n",
    "\n",
    "plt.subplot(1, 3, 1)\n",
    "for i in range(0, len(colors)):\n",
    "    plt.scatter(colors['rg'][i][0], colors['rg'][i][1], c='black', alpha=0.3)\n",
    "plt.title('Color coordinates - CIE (r, g)')\n",
    "plt.xlabel('r')\n",
    "plt.ylabel('g')\n",
    "\n",
    "plt.subplot(1, 3, 2)\n",
    "for i in range(0, len(colors)):\n",
    "    plt.scatter(colors['xy'][i][0], colors['xy'][i][1], c='black', alpha=0.3)\n",
    "plt.xlim(0, 0.8)\n",
    "plt.ylim(0, 0.9)\n",
    "plt.title('Color coordinates - CIE (x, y)')\n",
    "plt.xlabel('x')\n",
    "plt.ylabel('y')\n",
    "\n",
    "plt.subplot(1, 3, 3)\n",
    "for i in range(0, len(colors)):\n",
    "    plt.scatter(colors['uv'][i][0], colors['uv'][i][1], c='black', alpha=0.3)\n",
    "plt.xlim(0, 0.65)\n",
    "plt.ylim(0, 0.65)\n",
    "plt.title('Color coordinates - CIE (u\\', v\\')')\n",
    "plt.xlabel('u\\'')\n",
    "plt.ylabel('v\\'')\n",
    "\n",
    "plt.show()"
   ]
  },
  {
   "cell_type": "markdown",
   "metadata": {
    "papermill": {
     "duration": 0.029087,
     "end_time": "2020-10-23T13:18:42.896885",
     "exception": false,
     "start_time": "2020-10-23T13:18:42.867798",
     "status": "completed"
    },
    "tags": []
   },
   "source": [
    "![Color diagrams with scatter plots](https://zupimages.net/up/20/42/mdlz.png)"
   ]
  },
  {
   "cell_type": "markdown",
   "metadata": {
    "papermill": {
     "duration": 0.028427,
     "end_time": "2020-10-23T13:18:42.959894",
     "exception": false,
     "start_time": "2020-10-23T13:18:42.931467",
     "status": "completed"
    },
    "tags": []
   },
   "source": [
    "With scatterplot visualizations, we see that most of the color points are centered on a \"white\" chromaticity zone, which in the chromaticity diagrams is near the cyan and the yellow zones. From this result, we can expect that the color classification through most of the methods based on chromaticity calculation will not get a satisfying result compared to the manual classification baseline."
   ]
  },
  {
   "cell_type": "code",
   "execution_count": 8,
   "metadata": {
    "execution": {
     "iopub.execute_input": "2020-10-23T13:18:43.034572Z",
     "iopub.status.busy": "2020-10-23T13:18:43.033624Z",
     "iopub.status.idle": "2020-10-23T13:18:43.234722Z",
     "shell.execute_reply": "2020-10-23T13:18:43.233757Z"
    },
    "papermill": {
     "duration": 0.243958,
     "end_time": "2020-10-23T13:18:43.234891",
     "exception": false,
     "start_time": "2020-10-23T13:18:42.990933",
     "status": "completed"
    },
    "tags": []
   },
   "outputs": [],
   "source": [
    "## Colors classification based on multiple color space coordinates\n",
    "\n",
    "cols = ['RGB', 'rg', 'xy', 'uv', 'Lab']\n",
    "for col in cols:\n",
    "    colors['Cat_' + col] = [categorize_color(color, colcat, col) for color in colors[col]]"
   ]
  },
  {
   "cell_type": "code",
   "execution_count": 9,
   "metadata": {
    "execution": {
     "iopub.execute_input": "2020-10-23T13:18:43.325610Z",
     "iopub.status.busy": "2020-10-23T13:18:43.313785Z",
     "iopub.status.idle": "2020-10-23T13:18:43.653872Z",
     "shell.execute_reply": "2020-10-23T13:18:43.652921Z"
    },
    "papermill": {
     "duration": 0.385589,
     "end_time": "2020-10-23T13:18:43.654045",
     "exception": false,
     "start_time": "2020-10-23T13:18:43.268456",
     "status": "completed"
    },
    "tags": []
   },
   "outputs": [
    {
     "data": {
      "image/png": "[encoded data removed]",
      "text/plain": [
       "<Figure size 720x432 with 1 Axes>"
      ]
     },
     "metadata": {
      "needs_background": "light"
     },
     "output_type": "display_data"
    }
   ],
   "source": [
    "## Visualizing classification differences between used color spaces\n",
    "\n",
    "colors_rep = pd.melt(colors[['category', 'Cat_RGB', 'Cat_rg', 'Cat_xy', 'Cat_uv', 'Cat_Lab']], var_name='Méthode', value_name='Couleur').pivot_table(index='Méthode', columns='Couleur', values='Couleur', aggfunc=len)\n",
    "colors_rep_cum = colors_rep.cumsum(axis=1)\n",
    "plt.figure(figsize=(10, 6))\n",
    "for col in colors_rep.columns:\n",
    "    plt.barh(colors_rep.index, colors_rep[col], left=colors_rep_cum[col]-colors_rep[col], color=col[0].lower(), label=col)\n",
    "plt.title('Colors classification for multiple color spaces')\n",
    "plt.legend(ncol=len(colors_rep.columns), loc='upper center', bbox_to_anchor=(0.5, -0.1))\n",
    "plt.show()"
   ]
  },
  {
   "cell_type": "markdown",
   "metadata": {
    "papermill": {
     "duration": 0.031288,
     "end_time": "2020-10-23T13:18:43.718627",
     "exception": false,
     "start_time": "2020-10-23T13:18:43.687339",
     "status": "completed"
    },
    "tags": []
   },
   "source": [
    "As expected, the classifications are very different. There is a majority of yellow and turquoise tint attribution, related to the effect seen on the previous scatterplots. The closest color repartition to the color classification baseline (printed as 'category' on the plot) is with the RGB color encoding linear distance calculation.\n",
    "\n",
    "Finally, a color classification is made based on the color name, looking for if the name contains the name of the color tint."
   ]
  },
  {
   "cell_type": "code",
   "execution_count": 10,
   "metadata": {
    "execution": {
     "iopub.execute_input": "2020-10-23T13:18:43.798057Z",
     "iopub.status.busy": "2020-10-23T13:18:43.797100Z",
     "iopub.status.idle": "2020-10-23T13:18:43.803565Z",
     "shell.execute_reply": "2020-10-23T13:18:43.804524Z"
    },
    "papermill": {
     "duration": 0.054126,
     "end_time": "2020-10-23T13:18:43.804855",
     "exception": false,
     "start_time": "2020-10-23T13:18:43.750729",
     "status": "completed"
    },
    "tags": []
   },
   "outputs": [
    {
     "name": "stdout",
     "output_type": "stream",
     "text": [
      "Blue         26\n",
      "Green        20\n",
      "Red          10\n",
      "Yellow        9\n",
      "Turquoise     2\n",
      "Magenta       1\n",
      "Name: Cat_Name, dtype: int64\n"
     ]
    }
   ],
   "source": [
    "## Color classification through the color name (being or containing the tint color name)\n",
    "\n",
    "clist = ['Blue', 'Green', 'Red', 'Turquoise', 'Magenta', 'Yellow']\n",
    "colors['Cat_Name'] = [cat_color_name(clist, name) for name in colors['name']]\n",
    "print(colors['Cat_Name'].value_counts())"
   ]
  },
  {
   "cell_type": "markdown",
   "metadata": {
    "papermill": {
     "duration": 0.033808,
     "end_time": "2020-10-23T13:18:43.872226",
     "exception": false,
     "start_time": "2020-10-23T13:18:43.838418",
     "status": "completed"
    },
    "tags": []
   },
   "source": [
    "# 3. Inventoring parts by color category\n",
    "\n",
    "Before making the Lego parts inventory, the colors DataFrame has to be cleaned. The classification baseline, the RGB based classification and the name classification are kept for the following processes in order to limit the quantity of different answers to the initial business question : \"**Which color tints are the most used to create sets ?**\".\n",
    "\n",
    "To make the Lego inventory counts, inventories, parts and part categories tables are imported from the database. These tables are then merged and the cleaned colors table is joined to create a single dataframe."
   ]
  },
  {
   "cell_type": "code",
   "execution_count": 11,
   "metadata": {
    "execution": {
     "iopub.execute_input": "2020-10-23T13:18:43.955084Z",
     "iopub.status.busy": "2020-10-23T13:18:43.953957Z",
     "iopub.status.idle": "2020-10-23T13:18:47.222930Z",
     "shell.execute_reply": "2020-10-23T13:18:47.221884Z"
    },
    "papermill": {
     "duration": 3.318374,
     "end_time": "2020-10-23T13:18:47.223126",
     "exception": false,
     "start_time": "2020-10-23T13:18:43.904752",
     "status": "completed"
    },
    "tags": []
   },
   "outputs": [
    {
     "name": "stdout",
     "output_type": "stream",
     "text": [
      "<class 'pandas.core.frame.DataFrame'>\n",
      "Int64Index: 364273 entries, 0 to 364272\n",
      "Data columns (total 10 columns):\n",
      " #   Column         Non-Null Count   Dtype \n",
      "---  ------         --------------   ----- \n",
      " 0   inventory_id   364273 non-null  int64 \n",
      " 1   part_num       364273 non-null  object\n",
      " 2   color_id       364273 non-null  int64 \n",
      " 3   quantity       364273 non-null  int64 \n",
      " 4   part_cat_id    364273 non-null  int64 \n",
      " 5   part_cat_name  364273 non-null  object\n",
      " 6   color_name     364273 non-null  object\n",
      " 7   category       364273 non-null  object\n",
      " 8   Cat_RGB        364273 non-null  object\n",
      " 9   Cat_Name       260782 non-null  object\n",
      "dtypes: int64(4), object(6)\n",
      "memory usage: 30.6+ MB\n",
      "None\n"
     ]
    }
   ],
   "source": [
    "## Importing csv files and preprocessing data for parts and sets inventories\n",
    "\n",
    "colors = colors.drop(columns=['XYZ', 'Lab', 'rg', 'xy', 'uv', 'r', 'g', 'b', 'Cat_rg', 'Cat_xy', 'Cat_uv', 'Cat_Lab'])\n",
    "inventories = pd.read_csv('../input/lego-creative-database-062020-rebrickable/inventory_parts.csv')\n",
    "parts = pd.read_csv('../input/lego-creative-database-062020-rebrickable/parts.csv')\n",
    "categories = pd.read_csv('../input/lego-creative-database-062020-rebrickable/part_categories.csv')\n",
    "\n",
    "df = pd.merge(inventories, parts[['part_num', 'part_cat_id']], on='part_num')\n",
    "df = pd.merge(df, categories, left_on='part_cat_id', right_on='id').drop(columns=['id', 'is_spare'])\n",
    "df = pd.merge(df, colors, left_on='color_id', right_on='id').drop(columns=['id', 'RGB', 'rgb'])\n",
    "col_name = {'name_x': 'part_cat_name', 'name_y': 'color_name'}\n",
    "df = df.rename(columns=col_name)\n",
    "df['Cat_Name'] = df['Cat_Name'].str.replace('Turquoise', 'Cyan')\n",
    "bricks = df[df['part_cat_name'].str.contains('Bricks')]\n",
    "\n",
    "print(df.info())"
   ]
  },
  {
   "cell_type": "markdown",
   "metadata": {
    "papermill": {
     "duration": 0.032503,
     "end_time": "2020-10-23T13:18:47.287701",
     "exception": false,
     "start_time": "2020-10-23T13:18:47.255198",
     "status": "completed"
    },
    "tags": []
   },
   "source": [
    "The inventory counts are made through two methods :\n",
    "*     The first method is to count every part color separately without considering how they are grouped in sets.\n",
    "*     The second method is to qualify the color tint of each set regarding the color of its parts then count the sets colors.\n",
    "\n",
    "These two methods are transcripted into functions below. They are used to count all the Lego parts (in the df dataframe) and all the Lego bricks (in the bricks dataframe, based on the categories containing \"bricks\")."
   ]
  },
  {
   "cell_type": "code",
   "execution_count": 12,
   "metadata": {
    "execution": {
     "iopub.execute_input": "2020-10-23T13:18:47.379372Z",
     "iopub.status.busy": "2020-10-23T13:18:47.377922Z",
     "iopub.status.idle": "2020-10-23T13:18:47.383033Z",
     "shell.execute_reply": "2020-10-23T13:18:47.382101Z"
    },
    "papermill": {
     "duration": 0.060303,
     "end_time": "2020-10-23T13:18:47.383206",
     "exception": false,
     "start_time": "2020-10-23T13:18:47.322903",
     "status": "completed"
    },
    "tags": []
   },
   "outputs": [],
   "source": [
    "## Functions used to make inventory counts \n",
    "\n",
    "def count_parts(dfp, col, meth):\n",
    "    \"\"\"Return a pivot table DataFrame of parts sum by color tint with a name given to the counting method.\"\"\"\n",
    "    df = dfp.pivot_table(index=col, values='quantity', aggfunc=np.sum).reset_index().rename(columns={col:'color'})\n",
    "    df['method'] = meth\n",
    "    return df\n",
    "\n",
    "def count_sets(dfp, col, meth):\n",
    "    \"\"\"Return a pivot table DataFrame counting sets color tint. Each set's color tint is established by the most represented color \n",
    "    tint in the set's parts. If draw, both the colors are counted.\"\"\"\n",
    "    df = dfp.pivot_table(index='inventory_id', columns=col, values='quantity', aggfunc=np.sum).fillna(0).reset_index(drop=True)\n",
    "    df['max'] = [max(b, c, g, m, r, y) for b, c, g, m, r, y in zip(df['Blue'], df['Cyan'], df['Green'], df['Magenta'], df['Red'], df['Yellow'])]\n",
    "    dict_df = {'Blue': 0, 'Green': 0, 'Red': 0, 'Yellow': 0, 'Magenta': 0, 'Cyan': 0}\n",
    "    for i in df.index:\n",
    "        for c in dict_df.keys():\n",
    "            if df.loc[i, c] == df.loc[i, 'max']:\n",
    "                dict_df[c] += 1\n",
    "    dfr = pd.DataFrame.from_dict(dict_df, orient='index', columns=['quantity']).reset_index().rename(columns={'index':'color'})\n",
    "    dfr['method'] = meth\n",
    "    return dfr"
   ]
  },
  {
   "cell_type": "code",
   "execution_count": 13,
   "metadata": {
    "execution": {
     "iopub.execute_input": "2020-10-23T13:18:47.465218Z",
     "iopub.status.busy": "2020-10-23T13:18:47.464181Z",
     "iopub.status.idle": "2020-10-23T13:18:47.745897Z",
     "shell.execute_reply": "2020-10-23T13:18:47.746624Z"
    },
    "papermill": {
     "duration": 0.331461,
     "end_time": "2020-10-23T13:18:47.746853",
     "exception": false,
     "start_time": "2020-10-23T13:18:47.415392",
     "status": "completed"
    },
    "tags": []
   },
   "outputs": [],
   "source": [
    "## Inventory counts on parts scale based on all parts then all bricks \n",
    "\n",
    "synth = count_parts(df, 'category', 'cat_parts_all') \\\n",
    "    .append(count_parts(df, 'Cat_Name', 'name_parts_all'), ignore_index=True) \\\n",
    "    .append(count_parts(df, 'Cat_RGB', 'rgb_parts_all'), ignore_index=True) \\\n",
    "    .append(count_parts(bricks, 'category', 'cat_parts_bri'), ignore_index=True) \\\n",
    "    .append(count_parts(bricks, 'Cat_Name', 'name_parts_bri'), ignore_index=True) \\\n",
    "    .append(count_parts(bricks, 'Cat_RGB', 'rgb_parts_bri'), ignore_index=True)"
   ]
  },
  {
   "cell_type": "code",
   "execution_count": 14,
   "metadata": {
    "execution": {
     "iopub.execute_input": "2020-10-23T13:18:47.835524Z",
     "iopub.status.busy": "2020-10-23T13:18:47.833457Z",
     "iopub.status.idle": "2020-10-23T13:19:05.246956Z",
     "shell.execute_reply": "2020-10-23T13:19:05.246086Z"
    },
    "papermill": {
     "duration": 17.46544,
     "end_time": "2020-10-23T13:19:05.247131",
     "exception": false,
     "start_time": "2020-10-23T13:18:47.781691",
     "status": "completed"
    },
    "tags": []
   },
   "outputs": [
    {
     "data": {
      "text/html": [
       "<div>\n",
       "<style scoped>\n",
       "    .dataframe tbody tr th:only-of-type {\n",
       "        vertical-align: middle;\n",
       "    }\n",
       "\n",
       "    .dataframe tbody tr th {\n",
       "        vertical-align: top;\n",
       "    }\n",
       "\n",
       "    .dataframe thead th {\n",
       "        text-align: right;\n",
       "    }\n",
       "</style>\n",
       "<table border=\"1\" class=\"dataframe\">\n",
       "  <thead>\n",
       "    <tr style=\"text-align: right;\">\n",
       "      <th></th>\n",
       "      <th>color</th>\n",
       "      <th>quantity</th>\n",
       "      <th>method</th>\n",
       "    </tr>\n",
       "  </thead>\n",
       "  <tbody>\n",
       "    <tr>\n",
       "      <th>0</th>\n",
       "      <td>Blue</td>\n",
       "      <td>206021</td>\n",
       "      <td>cat_parts_all</td>\n",
       "    </tr>\n",
       "    <tr>\n",
       "      <th>1</th>\n",
       "      <td>Cyan</td>\n",
       "      <td>34791</td>\n",
       "      <td>cat_parts_all</td>\n",
       "    </tr>\n",
       "    <tr>\n",
       "      <th>2</th>\n",
       "      <td>Green</td>\n",
       "      <td>121201</td>\n",
       "      <td>cat_parts_all</td>\n",
       "    </tr>\n",
       "    <tr>\n",
       "      <th>3</th>\n",
       "      <td>Magenta</td>\n",
       "      <td>43478</td>\n",
       "      <td>cat_parts_all</td>\n",
       "    </tr>\n",
       "    <tr>\n",
       "      <th>4</th>\n",
       "      <td>Red</td>\n",
       "      <td>447783</td>\n",
       "      <td>cat_parts_all</td>\n",
       "    </tr>\n",
       "  </tbody>\n",
       "</table>\n",
       "</div>"
      ],
      "text/plain": [
       "     color  quantity         method\n",
       "0     Blue    206021  cat_parts_all\n",
       "1     Cyan     34791  cat_parts_all\n",
       "2    Green    121201  cat_parts_all\n",
       "3  Magenta     43478  cat_parts_all\n",
       "4      Red    447783  cat_parts_all"
      ]
     },
     "execution_count": 14,
     "metadata": {},
     "output_type": "execute_result"
    }
   ],
   "source": [
    "## Inventory counts on sets (through set classification) based on all parts then all bricks\n",
    "\n",
    "synth = synth.append(count_sets(df, 'category', 'cat_sets_all'), ignore_index=True) \\\n",
    "    .append(count_sets(df, 'Cat_Name', 'name_sets_all'), ignore_index=True) \\\n",
    "    .append(count_sets(df, 'Cat_RGB', 'rgb_sets_all'), ignore_index=True) \\\n",
    "    .append(count_sets(bricks, 'category', 'cat_sets_bri'), ignore_index=True) \\\n",
    "    .append(count_sets(bricks, 'Cat_Name', 'name_sets_bri'), ignore_index=True) \\\n",
    "    .append(count_sets(bricks, 'Cat_RGB', 'rgb_sets_bri'), ignore_index=True)\n",
    "synth.head()"
   ]
  },
  {
   "cell_type": "code",
   "execution_count": 15,
   "metadata": {
    "execution": {
     "iopub.execute_input": "2020-10-23T13:19:05.374270Z",
     "iopub.status.busy": "2020-10-23T13:19:05.360260Z",
     "iopub.status.idle": "2020-10-23T13:19:05.399107Z",
     "shell.execute_reply": "2020-10-23T13:19:05.398357Z"
    },
    "papermill": {
     "duration": 0.119671,
     "end_time": "2020-10-23T13:19:05.399258",
     "exception": false,
     "start_time": "2020-10-23T13:19:05.279587",
     "status": "completed"
    },
    "tags": []
   },
   "outputs": [
    {
     "data": {
      "text/html": [
       "<div>\n",
       "<style scoped>\n",
       "    .dataframe tbody tr th:only-of-type {\n",
       "        vertical-align: middle;\n",
       "    }\n",
       "\n",
       "    .dataframe tbody tr th {\n",
       "        vertical-align: top;\n",
       "    }\n",
       "\n",
       "    .dataframe thead th {\n",
       "        text-align: right;\n",
       "    }\n",
       "</style>\n",
       "<table border=\"1\" class=\"dataframe\">\n",
       "  <thead>\n",
       "    <tr style=\"text-align: right;\">\n",
       "      <th>method</th>\n",
       "      <th>cat_parts_all</th>\n",
       "      <th>cat_parts_bri</th>\n",
       "      <th>cat_sets_all</th>\n",
       "      <th>cat_sets_bri</th>\n",
       "      <th>name_parts_all</th>\n",
       "      <th>name_parts_bri</th>\n",
       "      <th>name_sets_all</th>\n",
       "      <th>name_sets_bri</th>\n",
       "      <th>rgb_parts_all</th>\n",
       "      <th>rgb_parts_bri</th>\n",
       "      <th>rgb_sets_all</th>\n",
       "      <th>rgb_sets_bri</th>\n",
       "    </tr>\n",
       "    <tr>\n",
       "      <th>color</th>\n",
       "      <th></th>\n",
       "      <th></th>\n",
       "      <th></th>\n",
       "      <th></th>\n",
       "      <th></th>\n",
       "      <th></th>\n",
       "      <th></th>\n",
       "      <th></th>\n",
       "      <th></th>\n",
       "      <th></th>\n",
       "      <th></th>\n",
       "      <th></th>\n",
       "    </tr>\n",
       "  </thead>\n",
       "  <tbody>\n",
       "    <tr>\n",
       "      <th>Blue</th>\n",
       "      <td>0.179211</td>\n",
       "      <td>0.182724</td>\n",
       "      <td>0.165466</td>\n",
       "      <td>0.170580</td>\n",
       "      <td>0.261512</td>\n",
       "      <td>0.243081</td>\n",
       "      <td>0.243128</td>\n",
       "      <td>0.230696</td>\n",
       "      <td>0.150161</td>\n",
       "      <td>0.153674</td>\n",
       "      <td>0.122170</td>\n",
       "      <td>0.143930</td>\n",
       "    </tr>\n",
       "    <tr>\n",
       "      <th>Cyan</th>\n",
       "      <td>0.030264</td>\n",
       "      <td>0.018610</td>\n",
       "      <td>0.021348</td>\n",
       "      <td>0.024590</td>\n",
       "      <td>0.004181</td>\n",
       "      <td>0.003217</td>\n",
       "      <td>0.004272</td>\n",
       "      <td>0.005346</td>\n",
       "      <td>0.062907</td>\n",
       "      <td>0.055983</td>\n",
       "      <td>0.049472</td>\n",
       "      <td>0.053794</td>\n",
       "    </tr>\n",
       "    <tr>\n",
       "      <th>Green</th>\n",
       "      <td>0.105429</td>\n",
       "      <td>0.104840</td>\n",
       "      <td>0.077008</td>\n",
       "      <td>0.083296</td>\n",
       "      <td>0.124771</td>\n",
       "      <td>0.116843</td>\n",
       "      <td>0.108948</td>\n",
       "      <td>0.108339</td>\n",
       "      <td>0.188840</td>\n",
       "      <td>0.179317</td>\n",
       "      <td>0.176629</td>\n",
       "      <td>0.164697</td>\n",
       "    </tr>\n",
       "    <tr>\n",
       "      <th>Magenta</th>\n",
       "      <td>0.037820</td>\n",
       "      <td>0.031550</td>\n",
       "      <td>0.036787</td>\n",
       "      <td>0.042202</td>\n",
       "      <td>0.007189</td>\n",
       "      <td>0.006320</td>\n",
       "      <td>0.008867</td>\n",
       "      <td>0.013305</td>\n",
       "      <td>0.022783</td>\n",
       "      <td>0.017779</td>\n",
       "      <td>0.018893</td>\n",
       "      <td>0.020988</td>\n",
       "    </tr>\n",
       "    <tr>\n",
       "      <th>Red</th>\n",
       "      <td>0.389512</td>\n",
       "      <td>0.403178</td>\n",
       "      <td>0.383010</td>\n",
       "      <td>0.445503</td>\n",
       "      <td>0.406429</td>\n",
       "      <td>0.421256</td>\n",
       "      <td>0.349859</td>\n",
       "      <td>0.453077</td>\n",
       "      <td>0.269777</td>\n",
       "      <td>0.282730</td>\n",
       "      <td>0.240881</td>\n",
       "      <td>0.295924</td>\n",
       "    </tr>\n",
       "    <tr>\n",
       "      <th>Yellow</th>\n",
       "      <td>0.257765</td>\n",
       "      <td>0.259099</td>\n",
       "      <td>0.316380</td>\n",
       "      <td>0.233828</td>\n",
       "      <td>0.195919</td>\n",
       "      <td>0.209284</td>\n",
       "      <td>0.284925</td>\n",
       "      <td>0.189237</td>\n",
       "      <td>0.305532</td>\n",
       "      <td>0.310518</td>\n",
       "      <td>0.391955</td>\n",
       "      <td>0.320667</td>\n",
       "    </tr>\n",
       "  </tbody>\n",
       "</table>\n",
       "</div>"
      ],
      "text/plain": [
       "method   cat_parts_all  cat_parts_bri  cat_sets_all  cat_sets_bri  \\\n",
       "color                                                               \n",
       "Blue          0.179211       0.182724      0.165466      0.170580   \n",
       "Cyan          0.030264       0.018610      0.021348      0.024590   \n",
       "Green         0.105429       0.104840      0.077008      0.083296   \n",
       "Magenta       0.037820       0.031550      0.036787      0.042202   \n",
       "Red           0.389512       0.403178      0.383010      0.445503   \n",
       "Yellow        0.257765       0.259099      0.316380      0.233828   \n",
       "\n",
       "method   name_parts_all  name_parts_bri  name_sets_all  name_sets_bri  \\\n",
       "color                                                                   \n",
       "Blue           0.261512        0.243081       0.243128       0.230696   \n",
       "Cyan           0.004181        0.003217       0.004272       0.005346   \n",
       "Green          0.124771        0.116843       0.108948       0.108339   \n",
       "Magenta        0.007189        0.006320       0.008867       0.013305   \n",
       "Red            0.406429        0.421256       0.349859       0.453077   \n",
       "Yellow         0.195919        0.209284       0.284925       0.189237   \n",
       "\n",
       "method   rgb_parts_all  rgb_parts_bri  rgb_sets_all  rgb_sets_bri  \n",
       "color                                                              \n",
       "Blue          0.150161       0.153674      0.122170      0.143930  \n",
       "Cyan          0.062907       0.055983      0.049472      0.053794  \n",
       "Green         0.188840       0.179317      0.176629      0.164697  \n",
       "Magenta       0.022783       0.017779      0.018893      0.020988  \n",
       "Red           0.269777       0.282730      0.240881      0.295924  \n",
       "Yellow        0.305532       0.310518      0.391955      0.320667  "
      ]
     },
     "execution_count": 15,
     "metadata": {},
     "output_type": "execute_result"
    }
   ],
   "source": [
    "## Normalizing inventory counts and creating a pivot table for visualization\n",
    "\n",
    "synth['prop'] = [synth.loc[i, 'quantity'] / np.sum(synth.loc[synth['method'] == synth.loc[i, 'method'], 'quantity']) for i in synth.index]\n",
    "synth = synth.pivot_table(index='color', columns='method', values='prop')\n",
    "synth"
   ]
  },
  {
   "cell_type": "markdown",
   "metadata": {
    "papermill": {
     "duration": 0.032587,
     "end_time": "2020-10-23T13:19:05.464905",
     "exception": false,
     "start_time": "2020-10-23T13:19:05.432318",
     "status": "completed"
    },
    "tags": []
   },
   "source": [
    "# 4. Results\n",
    "\n",
    "To sum up the different counts, a representation of the six color tints proportions in the Legos is plotted for each methods combination. The goal is to answer the question \"**Which color tints are the most used to create sets ?**\". Each combination method is named on the following scheme :\n",
    "\n",
    "\"[color classification method] _ [count method] _ [count basis]\"\n",
    "\n",
    "*Color classification methods*: \"cat\" for the manual color classification baseline, \"name\" for the classification based on the color name and \"rgb\" for the classification based on RGB color encoding.\n",
    "\n",
    "*Count methods*: \"parts\" for the counting method based on every parts separately, \"sets\" for the counting method based on the color classification of sets.\n",
    "\n",
    "*Count basis*: \"all\" for the use of all parts, \"bri\" for the use of bricks only."
   ]
  },
  {
   "cell_type": "code",
   "execution_count": 16,
   "metadata": {
    "execution": {
     "iopub.execute_input": "2020-10-23T13:19:05.542293Z",
     "iopub.status.busy": "2020-10-23T13:19:05.541348Z",
     "iopub.status.idle": "2020-10-23T13:19:07.182948Z",
     "shell.execute_reply": "2020-10-23T13:19:07.182185Z"
    },
    "papermill": {
     "duration": 1.685095,
     "end_time": "2020-10-23T13:19:07.183143",
     "exception": false,
     "start_time": "2020-10-23T13:19:05.498048",
     "status": "completed"
    },
    "tags": []
   },
   "outputs": [
    {
     "name": "stderr",
     "output_type": "stream",
     "text": [
      "/opt/conda/lib/python3.7/site-packages/ipykernel_launcher.py:8: MatplotlibDeprecationWarning: Support for uppercase single-letter colors is deprecated since Matplotlib 3.1 and will be removed in 3.3; please use lowercase instead.\n",
      "  \n"
     ]
    },
    {
     "data": {
      "image/png": "[encoded data removed]",
      "text/plain": [
       "<Figure size 1368x792 with 12 Axes>"
      ]
     },
     "metadata": {
      "needs_background": "light"
     },
     "output_type": "display_data"
    }
   ],
   "source": [
    "## Visualizing each inventory count with different method used for color classification then inventory counting\n",
    "\n",
    "i=1\n",
    "plt.figure(figsize=(19, 11))\n",
    "for col in synth.columns:\n",
    "    plt.subplot(3, 4, i)\n",
    "    synth = synth.sort_values(col, ascending=False)\n",
    "    plt.bar(synth.index.str[0], synth[col], color=synth.index.str[0])\n",
    "    plt.ylim(0, 0.5)\n",
    "    plt.title(col)\n",
    "    i+=1\n",
    "plt.show()"
   ]
  },
  {
   "cell_type": "markdown",
   "metadata": {
    "papermill": {
     "duration": 0.034544,
     "end_time": "2020-10-23T13:19:07.253193",
     "exception": false,
     "start_time": "2020-10-23T13:19:07.218649",
     "status": "completed"
    },
    "tags": []
   },
   "source": [
    "The color classification method is the most impacting factor on the results. Within a same color classification method, there is less result differences from a count method/basis to another. Besides the \"three most used colors\" shown on the plots, there are also differences in the color proportions from a method to another."
   ]
  },
  {
   "cell_type": "markdown",
   "metadata": {
    "papermill": {
     "duration": 0.034456,
     "end_time": "2020-10-23T13:19:07.322870",
     "exception": false,
     "start_time": "2020-10-23T13:19:07.288414",
     "status": "completed"
    },
    "tags": []
   },
   "source": [
    "# Conclusion\n",
    "\n",
    "Through this Lego example we observed that a lot of analysis methods can be used to answer a same question. With 12 methods tried (combination of 3 color classification methods, 2 counting methods and 2 counting basis), the results are already very different. Is there any good analysis methodology to answer any business case ? How to ensure the data analysis keeps consistent with the field reality ? \n",
    "\n",
    "To me, there are at least 3 important behaviors to keep when analyzing a business case:\n",
    "\n",
    "1. Have as much knowledge on the job/field reality and needs related to the data used for the business case.\n",
    "2. Explore the data and validate simple insight hypothesis before going too deep. It also helps to ensure data quality.\n",
    "3. Make sure your model and analysis are consistent with business client needs (what to include or not, specific criterias...). To do regular touchbases with model explanations is a good way to keep tracks in my opinion.\n",
    "\n",
    "Thank you for reading this notebook! If you liked the content, please leave an upvote. If you ever have to deal with this type of analysis dilemma, please share your experience and how you deal with such a case."
   ]
  }
 ],
 "metadata": {
  "kernelspec": {
   "display_name": "Python 3",
   "language": "python",
   "name": "python3"
  },
  "language_info": {
   "codemirror_mode": {
    "name": "ipython",
    "version": 3
   },
   "file_extension": ".py",
   "mimetype": "text/x-python",
   "name": "python",
   "nbconvert_exporter": "python",
   "pygments_lexer": "ipython3",
   "version": "3.7.6"
  },
  "papermill": {
   "duration": 40.72277,
   "end_time": "2020-10-23T13:19:07.468113",
   "environment_variables": {},
   "exception": null,
   "input_path": "__notebook__.ipynb",
   "output_path": "__notebook__.ipynb",
   "parameters": {},
   "start_time": "2020-10-23T13:18:26.745343",
   "version": "2.1.0"
  }
 },
 "nbformat": 4,
 "nbformat_minor": 4
}
